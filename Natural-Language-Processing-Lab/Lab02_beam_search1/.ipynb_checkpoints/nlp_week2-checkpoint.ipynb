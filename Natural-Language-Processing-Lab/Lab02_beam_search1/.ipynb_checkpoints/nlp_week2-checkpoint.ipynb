{
 "cells": [
  {
   "cell_type": "markdown",
   "metadata": {},
   "source": [
    "## 1. word probability"
   ]
  },
  {
   "cell_type": "code",
   "execution_count": 58,
   "metadata": {
    "collapsed": true
   },
   "outputs": [],
   "source": [
    "import re, collections\n",
    "\n",
    "def words(text):\n",
    "    return re.findall(r'([a-z]+|[.,:?!])', text.lower())\n",
    "\n",
    "# def words(text):\n",
    "#     return re.findall(r'\\w+', text.lower())\n",
    "\n",
    "word_count = collections.Counter(words(open('big.txt').read()))\n",
    "\n",
    "# def P(word, N=sum(word_count.values())): \n",
    "#     \"Probability of `word`.\"\n",
    "#     return word_count[word]/N if word in word_count else 10./10**len(word)/N\n",
    "\n",
    "def P(word, N = sum(word_count.values())):\n",
    "    return word_count[word]/N"
   ]
  },
  {
   "cell_type": "code",
   "execution_count": 59,
   "metadata": {
    "collapsed": false
   },
   "outputs": [
    {
     "data": {
      "text/plain": [
       "[('colorless', 0.0),\n",
       " ('green', 5.191747198653021e-05),\n",
       " ('ideas', 4.5527629280495726e-05),\n",
       " ('sleep', 9.025652822273714e-05),\n",
       " ('furiously', 4.792382029525866e-06),\n",
       " ('.', 0.04686310640605693)]"
      ]
     },
     "execution_count": 59,
     "metadata": {},
     "output_type": "execute_result"
    }
   ],
   "source": [
    "[ (w, P(w)) for w in words('Colorless green ideas sleep furiously.') ]"
   ]
  },
  {
   "cell_type": "markdown",
   "metadata": {},
   "source": [
    "## 2. represent the states"
   ]
  },
  {
   "cell_type": "code",
   "execution_count": 71,
   "metadata": {
    "collapsed": true
   },
   "outputs": [],
   "source": [
    "word = \"appearant\"\n",
    "state = ('', word, 0, P(word))"
   ]
  },
  {
   "cell_type": "code",
   "execution_count": 72,
   "metadata": {
    "collapsed": false
   },
   "outputs": [
    {
     "data": {
      "text/plain": [
       "('', 'appearant', 0, 0.0)"
      ]
     },
     "execution_count": 72,
     "metadata": {},
     "output_type": "execute_result"
    }
   ],
   "source": [
    "state"
   ]
  },
  {
   "cell_type": "markdown",
   "metadata": {},
   "source": [
    "## 3. write a next-state function"
   ]
  },
  {
   "cell_type": "code",
   "execution_count": 104,
   "metadata": {
    "collapsed": true
   },
   "outputs": [],
   "source": [
    "letters = 'abcdefghijklmnopqrstuvwxyz'\n",
    "\n",
    "def next_states(state):\n",
    "    L, R, edit, prob = state\n",
    "    R0, R1 = R[0], R[1:]\n",
    "\n",
    "    if edit == 2:\n",
    "        return [(L+R0, R1, edit, prob)]\n",
    "        \n",
    "    noedit = [(L+R0, R1, edit, prob)]\n",
    "    delete = [(L, R1, edit+1, P(L+R1))]\n",
    "    replace = [(L+l, R1, edit+1, P(L+l+R1)) for l in letters]\n",
    "    insert  = [(L+R0+l, R1, edit+1, P(L+R0+l+R1)) for l in letters]\n",
    "    \n",
    "    return noedit + delete + replace + insert"
   ]
  },
  {
   "cell_type": "code",
   "execution_count": 75,
   "metadata": {
    "collapsed": false
   },
   "outputs": [
    {
     "data": {
      "text/plain": [
       "[('a', 'ppearant', 0, 0.0),\n",
       " ('', 'ppearant', 1, 0.0),\n",
       " ('a', 'ppearant', 1, 0.0),\n",
       " ('b', 'ppearant', 1, 0.0),\n",
       " ('c', 'ppearant', 1, 0.0),\n",
       " ('d', 'ppearant', 1, 0.0),\n",
       " ('e', 'ppearant', 1, 0.0),\n",
       " ('f', 'ppearant', 1, 0.0),\n",
       " ('g', 'ppearant', 1, 0.0),\n",
       " ('h', 'ppearant', 1, 0.0),\n",
       " ('i', 'ppearant', 1, 0.0),\n",
       " ('j', 'ppearant', 1, 0.0),\n",
       " ('k', 'ppearant', 1, 0.0),\n",
       " ('l', 'ppearant', 1, 0.0),\n",
       " ('m', 'ppearant', 1, 0.0),\n",
       " ('n', 'ppearant', 1, 0.0),\n",
       " ('o', 'ppearant', 1, 0.0),\n",
       " ('p', 'ppearant', 1, 0.0),\n",
       " ('q', 'ppearant', 1, 0.0),\n",
       " ('r', 'ppearant', 1, 0.0),\n",
       " ('s', 'ppearant', 1, 0.0),\n",
       " ('t', 'ppearant', 1, 0.0),\n",
       " ('u', 'ppearant', 1, 0.0),\n",
       " ('v', 'ppearant', 1, 0.0),\n",
       " ('w', 'ppearant', 1, 0.0),\n",
       " ('x', 'ppearant', 1, 0.0),\n",
       " ('y', 'ppearant', 1, 0.0),\n",
       " ('z', 'ppearant', 1, 0.0),\n",
       " ('aa', 'ppearant', 1, 0.0),\n",
       " ('ab', 'ppearant', 1, 0.0),\n",
       " ('ac', 'ppearant', 1, 0.0),\n",
       " ('ad', 'ppearant', 1, 0.0),\n",
       " ('ae', 'ppearant', 1, 0.0),\n",
       " ('af', 'ppearant', 1, 0.0),\n",
       " ('ag', 'ppearant', 1, 0.0),\n",
       " ('ah', 'ppearant', 1, 0.0),\n",
       " ('ai', 'ppearant', 1, 0.0),\n",
       " ('aj', 'ppearant', 1, 0.0),\n",
       " ('ak', 'ppearant', 1, 0.0),\n",
       " ('al', 'ppearant', 1, 0.0),\n",
       " ('am', 'ppearant', 1, 0.0),\n",
       " ('an', 'ppearant', 1, 0.0),\n",
       " ('ao', 'ppearant', 1, 0.0),\n",
       " ('ap', 'ppearant', 1, 0.0),\n",
       " ('aq', 'ppearant', 1, 0.0),\n",
       " ('ar', 'ppearant', 1, 0.0),\n",
       " ('as', 'ppearant', 1, 0.0),\n",
       " ('at', 'ppearant', 1, 0.0),\n",
       " ('au', 'ppearant', 1, 0.0),\n",
       " ('av', 'ppearant', 1, 0.0),\n",
       " ('aw', 'ppearant', 1, 0.0),\n",
       " ('ax', 'ppearant', 1, 0.0),\n",
       " ('ay', 'ppearant', 1, 0.0),\n",
       " ('az', 'ppearant', 1, 0.0)]"
      ]
     },
     "execution_count": 75,
     "metadata": {},
     "output_type": "execute_result"
    }
   ],
   "source": [
    "next_states(state)"
   ]
  },
  {
   "cell_type": "markdown",
   "metadata": {},
   "source": [
    "## 4. beam search"
   ]
  },
  {
   "cell_type": "code",
   "execution_count": 64,
   "metadata": {
    "collapsed": true
   },
   "outputs": [],
   "source": [
    "MAXBEAM = 500"
   ]
  },
  {
   "cell_type": "code",
   "execution_count": 119,
   "metadata": {
    "collapsed": true
   },
   "outputs": [],
   "source": [
    "def correction(word):\n",
    "    states = [ (\"\", word, 0, P(word)) ]\n",
    "    for _ in range(len(word)):\n",
    "        print(states[:3])\n",
    "        states = [ state for states in map(next_states, states) for state in states ] # 不知可不可[state for state in map(next_states, state)]就好 \n",
    "        \n",
    "        L_and_R = {}\n",
    "        for state in states:\n",
    "            L, R, edit, prob = state\n",
    "            combine = L + R\n",
    "            if combine not in L_and_R:\n",
    "                L_and_R[combine] = (L, R, edit, prob)\n",
    "            elif edit < L_and_R[combine][2]:\n",
    "                L_and_R[combine] = (L, R, edit, prob)  \n",
    "                \n",
    "        states = list(L_and_R.values())\n",
    "        \n",
    "        states = sorted(states, key=lambda x: x[3], reverse=True)\n",
    "        states = sorted(states, key=lambda x: x[2])[:MAXBEAM]\n",
    "    \n",
    "    for s in states:\n",
    "        if s[2] != 0 and s[3] <= 0:\n",
    "            del s\n",
    "    \n",
    "    if len(states)>1:\n",
    "        for s in states:\n",
    "            if s[2] == 0:\n",
    "                del s\n",
    "    \n",
    "    states = sorted(states, key=lambda x: x[3], reverse=True)\n",
    "    return states[:3]"
   ]
  },
  {
   "cell_type": "code",
   "execution_count": 120,
   "metadata": {
    "collapsed": false
   },
   "outputs": [
    {
     "name": "stdout",
     "output_type": "stream",
     "text": [
      "[('', 'appearant', 0, 0.0)]\n",
      "[('a', 'ppearant', 0, 0.0), ('', 'ppearant', 1, 0.0), ('b', 'ppearant', 1, 0.0)]\n",
      "[('ap', 'pearant', 0, 0.0), ('a', 'pearant', 1, 0.0), ('aa', 'pearant', 1, 0.0)]\n",
      "[('app', 'earant', 0, 0.0), ('ap', 'earant', 1, 0.0), ('apa', 'earant', 1, 0.0)]\n",
      "[('appe', 'arant', 0, 0.0), ('app', 'arant', 1, 0.0), ('appa', 'arant', 1, 0.0)]\n",
      "[('appea', 'rant', 0, 0.0), ('appe', 'rant', 1, 0.0), ('appeb', 'rant', 1, 0.0)]\n",
      "[('appear', 'ant', 0, 0.0), ('appea', 'ant', 1, 0.0), ('appeaa', 'ant', 1, 0.0)]\n",
      "[('appeara', 'nt', 0, 0.0), ('appear', 'nt', 1, 0.0), ('appearb', 'nt', 1, 0.0)]\n",
      "[('appearan', 't', 0, 0.0), ('appeara', 't', 1, 0.0), ('appearaa', 't', 1, 0.0)]\n"
     ]
    },
    {
     "data": {
      "text/plain": [
       "[('appearance', '', 2, 0.00010782859566433197),\n",
       " ('apparent', '', 2, 3.354667420668106e-05),\n",
       " ('appearing', '', 2, 1.8370797779849152e-05)]"
      ]
     },
     "execution_count": 120,
     "metadata": {},
     "output_type": "execute_result"
    }
   ],
   "source": [
    "correction(\"appearant\")"
   ]
  },
  {
   "cell_type": "code",
   "execution_count": 121,
   "metadata": {
    "collapsed": false
   },
   "outputs": [
    {
     "name": "stdout",
     "output_type": "stream",
     "text": [
      "[('', 'runing', 0, 0.0)]\n",
      "[('r', 'uning', 0, 0.0), ('t', 'uning', 1, 7.98730338254311e-07), ('', 'uning', 1, 0.0)]\n",
      "[('ru', 'ning', 0, 0.0), ('run', 'ning', 1, 0.00011182224735560353), ('rui', 'ning', 1, 2.396191014762933e-06)]\n",
      "[('run', 'ing', 0, 0.0), ('runn', 'ing', 1, 0.00011182224735560353), ('rul', 'ing', 1, 9.584764059051732e-06)]\n",
      "[('runi', 'ng', 0, 0.0), ('runni', 'ng', 1, 0.00011182224735560353), ('ruli', 'ng', 1, 9.584764059051732e-06)]\n",
      "[('runin', 'g', 0, 0.0), ('runnin', 'g', 1, 0.00011182224735560353), ('rulin', 'g', 1, 9.584764059051732e-06)]\n"
     ]
    },
    {
     "data": {
      "text/plain": [
       "[('during', '', 2, 0.0004017613601419184),\n",
       " ('turning', '', 2, 0.00016613591035689667),\n",
       " ('running', '', 1, 0.00011182224735560353)]"
      ]
     },
     "execution_count": 121,
     "metadata": {},
     "output_type": "execute_result"
    }
   ],
   "source": [
    "correction(\"runing\")"
   ]
  },
  {
   "cell_type": "code",
   "execution_count": 122,
   "metadata": {
    "collapsed": false
   },
   "outputs": [
    {
     "name": "stdout",
     "output_type": "stream",
     "text": [
      "[('', 'particpate', 0, 0.0)]\n",
      "[('p', 'articpate', 0, 0.0), ('', 'articpate', 1, 0.0), ('a', 'articpate', 1, 0.0)]\n",
      "[('pa', 'rticpate', 0, 0.0), ('p', 'rticpate', 1, 0.0), ('pb', 'rticpate', 1, 0.0)]\n",
      "[('par', 'ticpate', 0, 0.0), ('pa', 'ticpate', 1, 0.0), ('paa', 'ticpate', 1, 0.0)]\n",
      "[('part', 'icpate', 0, 0.0), ('par', 'icpate', 1, 0.0), ('para', 'icpate', 1, 0.0)]\n",
      "[('parti', 'cpate', 0, 0.0), ('part', 'cpate', 1, 0.0), ('parta', 'cpate', 1, 0.0)]\n",
      "[('partic', 'pate', 0, 0.0), ('partici', 'pate', 1, 3.194921353017244e-06), ('parti', 'pate', 1, 0.0)]\n",
      "[('particp', 'ate', 0, 0.0), ('particip', 'ate', 1, 3.194921353017244e-06), ('partic', 'ate', 1, 0.0)]\n",
      "[('particpa', 'te', 0, 0.0), ('participa', 'te', 1, 3.194921353017244e-06), ('particp', 'te', 1, 0.0)]\n",
      "[('particpat', 'e', 0, 0.0), ('participat', 'e', 1, 3.194921353017244e-06), ('particpa', 'e', 1, 0.0)]\n"
     ]
    },
    {
     "data": {
      "text/plain": [
       "[('participate', '', 1, 3.194921353017244e-06),\n",
       " ('particpate', '', 0, 0.0),\n",
       " ('particpat', '', 1, 0.0)]"
      ]
     },
     "execution_count": 122,
     "metadata": {},
     "output_type": "execute_result"
    }
   ],
   "source": [
    "correction(\"particpate\")"
   ]
  },
  {
   "cell_type": "code",
   "execution_count": 123,
   "metadata": {
    "collapsed": false
   },
   "outputs": [
    {
     "name": "stdout",
     "output_type": "stream",
     "text": [
      "[('', 'beleive', 0, 0.0)]\n",
      "[('b', 'eleive', 0, 0.0), ('', 'eleive', 1, 0.0), ('a', 'eleive', 1, 0.0)]\n",
      "[('be', 'leive', 0, 0.0), ('b', 'leive', 1, 0.0), ('ba', 'leive', 1, 0.0)]\n",
      "[('bel', 'eive', 0, 0.0), ('be', 'eive', 1, 0.0), ('bea', 'eive', 1, 0.0)]\n",
      "[('bele', 'ive', 0, 0.0), ('bel', 'ive', 1, 0.0), ('bela', 'ive', 1, 0.0)]\n",
      "[('belei', 've', 0, 0.0), ('bele', 've', 1, 0.0), ('belea', 've', 1, 0.0)]\n",
      "[('beleiv', 'e', 0, 0.0), ('belei', 'e', 1, 0.0), ('beleia', 'e', 1, 0.0)]\n"
     ]
    },
    {
     "data": {
      "text/plain": [
       "[('believe', '', 2, 0.0001461676519005389),\n",
       " ('receive', '', 2, 7.587938213415954e-05),\n",
       " ('deceive', '', 2, 1.0383494397306042e-05)]"
      ]
     },
     "execution_count": 123,
     "metadata": {},
     "output_type": "execute_result"
    }
   ],
   "source": [
    "correction(\"beleive\")"
   ]
  }
 ],
 "metadata": {
  "kernelspec": {
   "display_name": "Python 3",
   "language": "python",
   "name": "python3"
  },
  "language_info": {
   "codemirror_mode": {
    "name": "ipython",
    "version": 3
   },
   "file_extension": ".py",
   "mimetype": "text/x-python",
   "name": "python",
   "nbconvert_exporter": "python",
   "pygments_lexer": "ipython3",
   "version": "3.6.0"
  }
 },
 "nbformat": 4,
 "nbformat_minor": 2
}
