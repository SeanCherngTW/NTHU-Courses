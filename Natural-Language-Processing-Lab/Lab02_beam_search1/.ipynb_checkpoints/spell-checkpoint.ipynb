{
 "cells": [
  {
   "cell_type": "code",
   "execution_count": 1,
   "metadata": {
    "collapsed": true
   },
   "outputs": [],
   "source": [
    "import re\n",
    "from pprint import pprint\n",
    "from collections import Counter\n",
    "\n",
    "letters = 'abcdefghijklmnopqrstuvwxyz'\n",
    "N = 1024908267229  # Size of Google Web 1T Dataset\n",
    "word_count = [line.split('\\t') for line in open('count_1w.txt', 'r')]\n",
    "Pdist = dict([(word, float(count) / N) for word, count in word_count])"
   ]
  },
  {
   "cell_type": "code",
   "execution_count": 2,
   "metadata": {
    "collapsed": true
   },
   "outputs": [],
   "source": [
    "def Pw(word):\n",
    "    return Pdist[word] if word in Pdist else 10. / 10**len(word) / N"
   ]
  },
  {
   "cell_type": "code",
   "execution_count": 3,
   "metadata": {
    "collapsed": false
   },
   "outputs": [],
   "source": [
    "def words(text):\n",
    "    return re.findall(r'\\w+', text.lower())\n",
    "\n",
    "WORDS = Counter(words(open('big.txt').read()))\n",
    "\n",
    "def P(word, N=sum(WORDS.values())):\n",
    "    \"Probability of `word`.\"\n",
    "    return WORDS[word] / N"
   ]
  },
  {
   "cell_type": "code",
   "execution_count": 260,
   "metadata": {
    "collapsed": false
   },
   "outputs": [],
   "source": [
    "# Using Pw(word) or P(word) may result in different answers\n",
    "def next_states(state):\n",
    "    L, R, edit, prob = state\n",
    "    R0, R1 = R[0], R[1:]\n",
    "    if edit == 2:\n",
    "        return [(L+R0, R1, edit, prob)]\n",
    "    noedit = [(L + R0, R1, edit, prob)]\n",
    "    delete = [(L, R1, edit + 1, P(L + R1))]\n",
    "    replaces = [(L + c, R1, edit + 1, P(L + c + R1)) for c in letters]\n",
    "    inserts = [(L + R0 + c, R1, edit + 1, P(L + R0 + c + R1)) for c in letters]\n",
    "    return noedit + delete + replaces + inserts"
   ]
  },
  {
   "cell_type": "code",
   "execution_count": 281,
   "metadata": {
    "collapsed": false
   },
   "outputs": [],
   "source": [
    "# Using Pw(word) or P(word) may result in different answers\n",
    "def correction(word):\n",
    "    states = [('', word, 0, P(word))]\n",
    "    MAXBEAM = 550\n",
    "    \n",
    "    # Since Pw(word) never returns 0, so we need a minimum threshold for unseen words\n",
    "    threshold = 10. / 10**len(word) / N\n",
    "    \n",
    "    for i in range(len(word)):\n",
    "        states = [state for states in map(next_states, states) for state in states]\n",
    "        \n",
    "        word_dict = {}\n",
    "        for state in states:\n",
    "            L, R, edit, prob = state\n",
    "            word = L + R\n",
    "            if word not in word_dict or edit < word_dict[word][2]:\n",
    "                word_dict[word] = state\n",
    "                \n",
    "        states = list(word_dict.values())\n",
    "        states = sorted(states, key=lambda x: x[3], reverse=True)\n",
    "        states = sorted(states, key=lambda x: x[2])[:MAXBEAM]\n",
    "        \n",
    "    states = [state for state in states if state[2] == 0 or state[3] > threshold]\n",
    "\n",
    "    return sorted(states, key=lambda x: x[3], reverse=True)[:3]"
   ]
  },
  {
   "cell_type": "code",
   "execution_count": 282,
   "metadata": {
    "collapsed": false
   },
   "outputs": [
    {
     "data": {
      "text/plain": [
       "[('appearance', '', 2, 0.00012101274219355764),\n",
       " ('apparent', '', 2, 3.764840868244015e-05),\n",
       " ('appearing', '', 2, 2.061698570705056e-05)]"
      ]
     },
     "execution_count": 282,
     "metadata": {},
     "output_type": "execute_result"
    }
   ],
   "source": [
    "correction(\"appearant\")"
   ]
  },
  {
   "cell_type": "code",
   "execution_count": 283,
   "metadata": {
    "collapsed": false
   },
   "outputs": [
    {
     "data": {
      "text/plain": [
       "[('during', '', 2, 0.00045088451350636663),\n",
       " ('turning', '', 2, 0.0001864492620463703),\n",
       " ('running', '', 1, 0.00012549469560813384)]"
      ]
     },
     "execution_count": 283,
     "metadata": {},
     "output_type": "execute_result"
    }
   ],
   "source": [
    "correction(\"runing\")"
   ]
  },
  {
   "cell_type": "code",
   "execution_count": 284,
   "metadata": {
    "collapsed": false
   },
   "outputs": [
    {
     "data": {
      "text/plain": [
       "[('participate', '', 1, 3.585562731660967e-06),\n",
       " ('participated', '', 2, 2.6891720487457255e-06),\n",
       " ('participates', '', 2, 8.963906829152417e-07)]"
      ]
     },
     "execution_count": 284,
     "metadata": {},
     "output_type": "execute_result"
    }
   ],
   "source": [
    "correction(\"particpate\")"
   ]
  },
  {
   "cell_type": "code",
   "execution_count": 285,
   "metadata": {
    "collapsed": false
   },
   "outputs": [
    {
     "data": {
      "text/plain": [
       "[('believe', '', 2, 0.00016403949497348924),\n",
       " ('receive', '', 2, 8.515711487694797e-05),\n",
       " ('deceive', '', 2, 1.1653078877898144e-05)]"
      ]
     },
     "execution_count": 285,
     "metadata": {},
     "output_type": "execute_result"
    }
   ],
   "source": [
    "correction(\"beleive\")"
   ]
  },
  {
   "cell_type": "code",
   "execution_count": null,
   "metadata": {
    "collapsed": true
   },
   "outputs": [],
   "source": []
  },
  {
   "cell_type": "code",
   "execution_count": null,
   "metadata": {
    "collapsed": true
   },
   "outputs": [],
   "source": []
  }
 ],
 "metadata": {
  "kernelspec": {
   "display_name": "Python 3",
   "language": "python",
   "name": "python3"
  },
  "language_info": {
   "codemirror_mode": {
    "name": "ipython",
    "version": 3
   },
   "file_extension": ".py",
   "mimetype": "text/x-python",
   "name": "python",
   "nbconvert_exporter": "python",
   "pygments_lexer": "ipython3",
   "version": "3.6.0"
  }
 },
 "nbformat": 4,
 "nbformat_minor": 2
}
