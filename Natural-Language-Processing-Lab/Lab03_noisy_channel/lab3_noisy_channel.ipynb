{
 "cells": [
  {
   "cell_type": "code",
   "execution_count": 65,
   "metadata": {
    "collapsed": false
   },
   "outputs": [],
   "source": [
    "import re\n",
    "import math\n",
    "from pprint import pprint\n",
    "from collections import Counter, defaultdict"
   ]
  },
  {
   "cell_type": "code",
   "execution_count": 66,
   "metadata": {
    "collapsed": true
   },
   "outputs": [],
   "source": [
    "'''Word Probability'''\n",
    "def words(text):\n",
    "    return re.findall(r'\\w+', text.lower())\n",
    "\n",
    "count_word = Counter(words(open('big.txt').read()))\n",
    "Nw = sum(count_word.values())\n",
    "Pdist = {word: float(count) / Nw for word, count in count_word.items()}\n",
    "\n",
    "def Pw(word):\n",
    "    return Pdist[word] if word in Pdist else 10 / 10**len(word) / Nw"
   ]
  },
  {
   "cell_type": "code",
   "execution_count": 67,
   "metadata": {
    "collapsed": false
   },
   "outputs": [],
   "source": [
    "'''Channel Probability'''\n",
    "count_1edit = defaultdict(lambda: 0)\n",
    "count_c = defaultdict(lambda: 0)\n",
    "for line in open('count_1edit.txt'):\n",
    "    edit, count = line.split('\\t')[0], int(line.split('\\t')[1].replace('\\n', ''))\n",
    "    w, c = edit.split('|')[0], edit.split('|')[1]\n",
    "    count_1edit[(w, c)] = count\n",
    "    count_c[c] += count\n",
    "\n",
    "r = 10\n",
    "N = dict()\n",
    "for i in range(1, r + 2):\n",
    "    N[i] = (sum(count for count in count_1edit.values() if count == i)) // i\n",
    "\n",
    "N[0] = 26 * 26 * 26 * 26 + 2 * 26 * 26 * 26 + 26 * 26 - sum(N.values())\n",
    "Nall = len(count_1edit.keys())"
   ]
  },
  {
   "cell_type": "code",
   "execution_count": 68,
   "metadata": {
    "collapsed": false
   },
   "outputs": [],
   "source": [
    "def smooth(count, r=10):\n",
    "    if count <= r:\n",
    "        return (count + 1) * N[count + 1] / N[count]\n",
    "    else:\n",
    "        return count"
   ]
  },
  {
   "cell_type": "code",
   "execution_count": 69,
   "metadata": {
    "collapsed": false,
    "scrolled": true
   },
   "outputs": [
    {
     "data": {
      "text/plain": [
       "0.0006445696531727264"
      ]
     },
     "execution_count": 69,
     "metadata": {},
     "output_type": "execute_result"
    }
   ],
   "source": [
    "smooth(0)"
   ]
  },
  {
   "cell_type": "code",
   "execution_count": 70,
   "metadata": {
    "collapsed": false
   },
   "outputs": [
    {
     "data": {
      "text/plain": [
       "1587"
      ]
     },
     "execution_count": 70,
     "metadata": {},
     "output_type": "execute_result"
    }
   ],
   "source": [
    "Nall"
   ]
  },
  {
   "cell_type": "code",
   "execution_count": 71,
   "metadata": {
    "collapsed": false
   },
   "outputs": [
    {
     "data": {
      "text/plain": [
       "3610"
      ]
     },
     "execution_count": 71,
     "metadata": {},
     "output_type": "execute_result"
    }
   ],
   "source": [
    "count_c['e']"
   ]
  },
  {
   "cell_type": "code",
   "execution_count": 72,
   "metadata": {
    "collapsed": true
   },
   "outputs": [],
   "source": [
    "def Pedit(w, c):\n",
    "    if (w, c) in count_1edit:\n",
    "        return smooth(count_1edit[w, c]) / count_c[c]\n",
    "    else:\n",
    "        if c in count_c:\n",
    "            return smooth(0)/count_c[c]\n",
    "        else:\n",
    "            return 10**(-20)"
   ]
  },
  {
   "cell_type": "code",
   "execution_count": 73,
   "metadata": {
    "collapsed": false
   },
   "outputs": [
    {
     "data": {
      "text/plain": [
       "0.3411458333333333"
      ]
     },
     "execution_count": 73,
     "metadata": {},
     "output_type": "execute_result"
    }
   ],
   "source": [
    "Pedit(\"e\",\"i\")"
   ]
  },
  {
   "cell_type": "code",
   "execution_count": 74,
   "metadata": {
    "collapsed": true
   },
   "outputs": [],
   "source": [
    "'''Combining channel probability with word probability to score states'''\n",
    "def P(pedit, pw):\n",
    "    return math.log(pedit) + math.log(pw)"
   ]
  },
  {
   "cell_type": "code",
   "execution_count": 75,
   "metadata": {
    "collapsed": false
   },
   "outputs": [],
   "source": [
    "'''Next States'''\n",
    "letters = 'abcdefghijklmnopqrstuvwxyz'\n",
    "def next_states(state):\n",
    "    L, R, edits, prob, pedit = state\n",
    "    R0, R1 = R[0], R[1:]\n",
    "    \n",
    "    if len(edits) == 2:\n",
    "        return [(L + R0, R1, edits, prob, pedit * 0.8)]\n",
    "    \n",
    "    noedit = [(L + R0, R1, edits, prob, pedit * 0.8)]\n",
    "    delete = [(L, R1, edits + [(L[-1:] + R0, L[-1:])], Pw(L + R1), pedit * Pedit(L[-1:] + R0, L[-1:]))]\n",
    "    replace = [(L + c, R1, edits + [(R0, c)], Pw(L + c + R1), pedit * Pedit(R0, c)) for c in letters]\n",
    "    insert  = [(L + R0 + c, R1, edits + [(R0, R0 + c)], Pw(L + R0 + c + R1), pedit * Pedit(R0, R0 + c)) for c in letters]\n",
    "    transpose = [(L + R1[0], R0 + R1[1:], edits + [(R0 + R1[0], R1[0] + R0)], Pw(L + R1[0] + R0 + R1[1:]), pedit * Pedit(R0 + R1[0], R1[0] + R0))] if len(R1) > 0 else []    \n",
    "    \n",
    "    return noedit + delete + insert + replace + transpose"
   ]
  },
  {
   "cell_type": "code",
   "execution_count": 76,
   "metadata": {
    "collapsed": false
   },
   "outputs": [],
   "source": [
    "# Using Pw(word) or P(word) may result in different answers\n",
    "def correction(word):\n",
    "    states = [ (\"\", word, [], Pw(word), 1) ]\n",
    "    MAXBEAM = 550\n",
    "    \n",
    "    for i in range(len(word)):\n",
    "        states = [state for states in map(next_states, states) for state in states]\n",
    "        \n",
    "        word_dict = {}\n",
    "        for state in states:\n",
    "            L, R, edits, prob, pedit = state\n",
    "            word = L + R\n",
    "            if word not in word_dict or len(edits) < len(word_dict[word][2]):\n",
    "                word_dict[word] = state\n",
    "                \n",
    "        states = list(word_dict.values())\n",
    "        states = sorted(states, key=lambda x: P(x[3],x[4]), reverse=True)\n",
    "        states = sorted(states, key=lambda x: len(x[2]))[:MAXBEAM]\n",
    "        \n",
    "    states = sorted(states, key=lambda x: P(x[3],x[4]), reverse=True)\n",
    "    return states[:3]"
   ]
  },
  {
   "cell_type": "code",
   "execution_count": 77,
   "metadata": {
    "collapsed": false,
    "scrolled": false
   },
   "outputs": [
    {
     "data": {
      "text/plain": [
       "[('apparent',\n",
       "  '',\n",
       "  [('pe', 'p'), ('a', 'e')],\n",
       "  3.764840868244015e-05,\n",
       "  0.01018676187828061),\n",
       " ('appearance',\n",
       "  '',\n",
       "  [('n', 'nc'), ('t', 'e')],\n",
       "  0.00012101274219355764,\n",
       "  0.0011182874238227151),\n",
       " ('appearing',\n",
       "  '',\n",
       "  [('a', 'i'), ('t', 'g')],\n",
       "  2.061698570705056e-05,\n",
       "  0.0009722564755838646)]"
      ]
     },
     "execution_count": 77,
     "metadata": {},
     "output_type": "execute_result"
    }
   ],
   "source": [
    "correction('appearant')"
   ]
  },
  {
   "cell_type": "code",
   "execution_count": 78,
   "metadata": {
    "collapsed": false
   },
   "outputs": [
    {
     "data": {
      "text/plain": [
       "[('turning',\n",
       "  '',\n",
       "  [('r', 't'), ('u', 'ur')],\n",
       "  0.0001864492620463703,\n",
       "  0.0042981549815498165),\n",
       " ('ruining', '', [('u', 'ui')], 2.6891720487457255e-06, 0.27703854545454554),\n",
       " ('ringing',\n",
       "  '',\n",
       "  [('u', 'i'), ('n', 'ng')],\n",
       "  2.8684501853287736e-05,\n",
       "  0.01890037453183521)]"
      ]
     },
     "execution_count": 78,
     "metadata": {},
     "output_type": "execute_result"
    }
   ],
   "source": [
    "correction(\"runing\")"
   ]
  },
  {
   "cell_type": "code",
   "execution_count": 79,
   "metadata": {
    "collapsed": false
   },
   "outputs": [
    {
     "data": {
      "text/plain": [
       "[('participate', '', [('c', 'ci')], 3.585562731660967e-06, 0.0648964838681319),\n",
       " ('participated',\n",
       "  '',\n",
       "  [('c', 'ci'), ('e', 'ed')],\n",
       "  2.6891720487457255e-06,\n",
       "  0.060988483927167755),\n",
       " ('participates',\n",
       "  '',\n",
       "  [('c', 'ci'), ('e', 'es')],\n",
       "  8.963906829152417e-07,\n",
       "  0.06499725480581534)]"
      ]
     },
     "execution_count": 79,
     "metadata": {},
     "output_type": "execute_result"
    }
   ],
   "source": [
    "correction(\"particpate\")"
   ]
  },
  {
   "cell_type": "code",
   "execution_count": 80,
   "metadata": {
    "collapsed": false
   },
   "outputs": [
    {
     "data": {
      "text/plain": [
       "[('believe', '', [('ei', 'ie')], 0.00016403949497348924, 0.15302185645933022),\n",
       " ('believed',\n",
       "  '',\n",
       "  [('ei', 'ie'), ('e', 'ed')],\n",
       "  7.977877077945652e-05,\n",
       "  0.14380703663604938),\n",
       " ('believes',\n",
       "  '',\n",
       "  [('ei', 'ie'), ('e', 'es')],\n",
       "  8.963906829152418e-06,\n",
       "  0.1532594680376832)]"
      ]
     },
     "execution_count": 80,
     "metadata": {},
     "output_type": "execute_result"
    }
   ],
   "source": [
    "correction(\"beleive\")"
   ]
  },
  {
   "cell_type": "code",
   "execution_count": 81,
   "metadata": {
    "collapsed": false
   },
   "outputs": [
    {
     "data": {
      "text/plain": [
       "[('written',\n",
       "  '',\n",
       "  [('u', 'e'), ('ng', 'n')],\n",
       "  0.00010487770990108329,\n",
       "  0.0004765429362880889),\n",
       " ('writhing',\n",
       "  '',\n",
       "  [('t', 'h'), ('u', 'i')],\n",
       "  3.585562731660967e-06,\n",
       "  0.0008601237842617159),\n",
       " ('writing',\n",
       "  '',\n",
       "  [('t', 'i'), ('iu', 'i')],\n",
       "  6.185095712115169e-05,\n",
       "  5.986394557823132e-06)]"
      ]
     },
     "execution_count": 81,
     "metadata": {},
     "output_type": "execute_result"
    }
   ],
   "source": [
    "correction('writtung')"
   ]
  },
  {
   "cell_type": "code",
   "execution_count": 82,
   "metadata": {
    "collapsed": false
   },
   "outputs": [
    {
     "data": {
      "text/plain": [
       "[('happy', '', [], 0.00019541316887552272, 0.32768000000000014),\n",
       " ('happen',\n",
       "  '',\n",
       "  [('p', 'pe'), ('y', 'n')],\n",
       "  8.874267760860894e-05,\n",
       "  0.002143868312757202),\n",
       " ('sappy', '', [('h', 's')], 1.7927813658304835e-06, 0.0034092746730083247)]"
      ]
     },
     "execution_count": 82,
     "metadata": {},
     "output_type": "execute_result"
    }
   ],
   "source": [
    "correction('happy')"
   ]
  },
  {
   "cell_type": "code",
   "execution_count": 83,
   "metadata": {
    "collapsed": false
   },
   "outputs": [],
   "source": [
    "#%save lab3_noisy_channel.py 65-82"
   ]
  },
  {
   "cell_type": "code",
   "execution_count": 85,
   "metadata": {
    "collapsed": false
   },
   "outputs": [
    {
     "data": {
      "text/plain": [
       "[('thanks', '', [('e', 'a')], 3.495923663369443e-05, 0.09240674698795184),\n",
       " ('think',\n",
       "  '',\n",
       "  [('e', 'i'), ('ks', 'k')],\n",
       "  0.0004992896103837897,\n",
       "  0.005557575757575758),\n",
       " ('thinks', '', [('e', 'i')], 2.2409767072881046e-05, 0.11178666666666669)]"
      ]
     },
     "execution_count": 85,
     "metadata": {},
     "output_type": "execute_result"
    }
   ],
   "source": [
    "correction('thenks')"
   ]
  },
  {
   "cell_type": "code",
   "execution_count": null,
   "metadata": {
    "collapsed": true
   },
   "outputs": [],
   "source": []
  }
 ],
 "metadata": {
  "kernelspec": {
   "display_name": "Python 3",
   "language": "python",
   "name": "python3"
  },
  "language_info": {
   "codemirror_mode": {
    "name": "ipython",
    "version": 3
   },
   "file_extension": ".py",
   "mimetype": "text/x-python",
   "name": "python",
   "nbconvert_exporter": "python",
   "pygments_lexer": "ipython3",
   "version": "3.6.0"
  }
 },
 "nbformat": 4,
 "nbformat_minor": 2
}
